{
 "cells": [
  {
   "cell_type": "code",
   "execution_count": 53,
   "metadata": {
    "collapsed": true
   },
   "outputs": [],
   "source": [
    "import pandas as pd\n",
    "import numpy as np\n",
    "from bokeh.models import ColumnDataSource, HoverTool\n",
    "from bokeh.models import HoverTool,CustomJS, Slider, ColumnDataSource\n",
    "from sklearn.metrics import mean_squared_error\n",
    "from bokeh.models.widgets import Slider, Select, TextInput\n",
    "from bokeh.layouts import layout, widgetbox,row,column\n",
    "from bokeh.plotting import figure,show,output_file\n",
    "\n",
    "origin=pd.read_csv('Wholesale customers data.csv')\n",
    "missing=pd.read_csv('Wholesale customers data-missing.csv')"
   ]
  },
  {
   "cell_type": "code",
   "execution_count": 54,
   "metadata": {},
   "outputs": [
    {
     "name": "stdout",
     "output_type": "stream",
     "text": [
      "Channel             0\n",
      "Region              0\n",
      "Fresh               0\n",
      "Milk                1\n",
      "Grocery             2\n",
      "Frozen              0\n",
      "Detergents_Paper    2\n",
      "Delicassen          1\n",
      "dtype: int64\n",
      "94.9300879116\n",
      "146.521271612\n"
     ]
    }
   ],
   "source": [
    "a=missing.isnull().sum()\n",
    "print(a)\n",
    "\n",
    "missing1=missing.copy()\n",
    "missing1.fillna(missing1.median() ,inplace=True)\n",
    "rmsl1=np.sqrt(mean_squared_error(missing1,origin))\n",
    "print(rmsl1)\n",
    "\n",
    "\n",
    "missing2=missing.copy()\n",
    "missing2.fillna(missing1.mean(), inplace=True)\n",
    "rmsl2=np.sqrt(mean_squared_error(missing2,origin))\n",
    "print(rmsl2)\n"
   ]
  },
  {
   "cell_type": "code",
   "execution_count": 55,
   "metadata": {
    "collapsed": true
   },
   "outputs": [],
   "source": [
    "x_axis_map=['Fresh','Milk','Grocery','Frozen','Detergents','Delicassen'] \n",
    "y_axis_map=['Channel','Region']\n",
    "x_axis_select=Select(title=\"X Axis\",options=x_axis_map,value='Fresh')\n",
    "y_axis_select=Select(title=\"Y Axis\",options=y_axis_map,value='Channel')"
   ]
  },
  {
   "cell_type": "code",
   "execution_count": 56,
   "metadata": {
    "collapsed": true
   },
   "outputs": [],
   "source": [
    "source=ColumnDataSource(dict(x1=origin['Fresh'],x2=missing['Fresh'],y1=origin['Channel'],y2=missing['Channel']))\n",
    "source1=ColumnDataSource(dict(x1=origin['Fresh'],x2=missing1['Fresh'],y1=origin['Channel'],y2=missing1['Channel']))\n",
    "source2=ColumnDataSource(dict(x1=origin['Fresh'],x2=missing2['Fresh'],y1=origin['Channel'],y2=missing2['Channel']))\n",
    "# source = ColumnDataSource(origin,missing)\n",
    "# x=origin['Fresh']\n",
    "# y=origin['Channel']\n",
    "# source = ColumnDataSource(dict(x=x,y=y))"
   ]
  },
  {
   "cell_type": "code",
   "execution_count": 57,
   "metadata": {
    "collapsed": true
   },
   "outputs": [],
   "source": [
    "p=figure(plot_height=500,plot_width=5000,x_range=(0,120000),y_range=(0,3), title=\"origin data vs missing data\")\n",
    "p1=figure(plot_height=500,plot_width=5000,x_range=(0,120000),y_range=(0,3), title=\"\")\n",
    "p2=figure(plot_height=500,plot_width=5000,x_range=(0,120000),y_range=(0,3), title=\"\")\n",
    "p1.title.text= \"origin data vs missing data filled with median and the error is %.10g \" % rmsl1\n",
    "p2.title.text= \"origin data vs missing data filled with mean and the error is %.10g \" % rmsl2"
   ]
  },
  {
   "cell_type": "code",
   "execution_count": 58,
   "metadata": {
    "collapsed": true
   },
   "outputs": [],
   "source": [
    "# def update(attrname, old, new):\n",
    "    \n",
    "# #     x_name=x_axis_map[x_axis.value]\n",
    "# #     y_name=y_axis_map[y_axis.value]\n",
    "#     p.xaxis.axis_label=x_axis.value\n",
    "#     p.yaxis.axis_label=y_axis.value\n",
    "#     source.data=dict(x1=origin[x_axis.value],y1=origin[y_axis.value],x2=missing[x_axis.value],y2=missing[y_axis.value])\n"
   ]
  },
  {
   "cell_type": "code",
   "execution_count": 59,
   "metadata": {
    "collapsed": true
   },
   "outputs": [],
   "source": [
    "def update_data():\n",
    "    p.xaxis.axis_label=x_axis_select.value\n",
    "    p.yaxis.axis_label=y_axis_select.value \n",
    "    p1.xaxis.axis_label=x_axis_select.value\n",
    "    p1.yaxis.axis_label=y_axis_select.value \n",
    "    p2.xaxis.axis_label=x_axis_select.value\n",
    "    p2.yaxis.axis_label=y_axis_select.value \n",
    "    print(x_axis_select.value)\n",
    "    source.data=dict(x1=origin[x_axis_select.value],y1=origin[y_axis_select.value],x2=missing[x_axis_select.value],y2=missing[y_axis_select.value])\n",
    "    source1.data=dict(x1=origin[x_axis_select.value],y1=origin[y_axis_select.value],x2=missing1[x_axis_select.value],y2=missing1[y_axis_select.value])\n",
    "    source2.data=dict(x1=origin[x_axis_select.value],y1=origin[y_axis_select.value],x2=missing2[x_axis_select.value],y2=missing2[y_axis_select.value])"
   ]
  },
  {
   "cell_type": "code",
   "execution_count": 60,
   "metadata": {
    "collapsed": true
   },
   "outputs": [],
   "source": [
    "x_axis_select.on_change('value',lambda attr,old,new:update_data)\n",
    "y_axis_select.on_change('value',lambda attr,old,new:update_data)"
   ]
  },
  {
   "cell_type": "code",
   "execution_count": 61,
   "metadata": {
    "collapsed": true
   },
   "outputs": [],
   "source": [
    "p.square(\"x1\",\"y1\",source=source,size=10, color=\"red\", fill_alpha=0.5)\n",
    "p.circle(\"x2\",\"y2\",source=source,size=5, color=\"black\", fill_alpha=0.5)\n",
    "p.add_tools(HoverTool(tooltips=[(\"number origin\",\"@x1\"),(\"Area origin\",\"@y1\"),(\"number missing\",\"@x2\"),(\"Area missing\", \"@y2\")]))\n",
    "\n",
    "p1.square(\"x1\",\"y1\",source=source1,size=10, color=\"red\", fill_alpha=0.5)\n",
    "p1.circle(\"x2\",\"y2\",source=source1,size=5, color=\"black\", fill_alpha=0.5)\n",
    "p1.add_tools(HoverTool(tooltips=[(\"number origin\",\"@x1\"),(\"Area origin\",\"@y1\"),(\"number missing\",\"@x2\"),(\"Area missing\", \"@y2\")]))\n",
    "\n",
    "p2.square(\"x1\",\"y1\",source=source2,size=10, color=\"red\", fill_alpha=0.5)\n",
    "p2.circle(\"x2\",\"y2\",source=source2,size=5, color=\"black\", fill_alpha=0.5)\n",
    "p2.add_tools(HoverTool(tooltips=[(\"number origin\",\"@x1\"),(\"Area origin\",\"@y1\"),(\"number missing\",\"@x2\"),(\"Area missing\", \"@y2\")]))"
   ]
  },
  {
   "cell_type": "code",
   "execution_count": 62,
   "metadata": {},
   "outputs": [
    {
     "name": "stdout",
     "output_type": "stream",
     "text": [
      "Fresh\n"
     ]
    }
   ],
   "source": [
    "update_data()\n"
   ]
  },
  {
   "cell_type": "code",
   "execution_count": 63,
   "metadata": {
    "collapsed": true
   },
   "outputs": [],
   "source": [
    "controls = widgetbox([x_axis_select, y_axis_select])\n",
    "layout=column(controls,p,p1,p2)\n",
    "# layout=\n",
    "output_file(\"Wholesale customers data-missing.html\", title=\"Wholesale customers data-missing\")\n",
    "show(layout)"
   ]
  },
  {
   "cell_type": "code",
   "execution_count": null,
   "metadata": {
    "collapsed": true
   },
   "outputs": [],
   "source": []
  },
  {
   "cell_type": "code",
   "execution_count": null,
   "metadata": {
    "collapsed": true
   },
   "outputs": [],
   "source": []
  }
 ],
 "metadata": {
  "kernelspec": {
   "display_name": "Python 3",
   "language": "python",
   "name": "python3"
  },
  "language_info": {
   "codemirror_mode": {
    "name": "ipython",
    "version": 3
   },
   "file_extension": ".py",
   "mimetype": "text/x-python",
   "name": "python",
   "nbconvert_exporter": "python",
   "pygments_lexer": "ipython3",
   "version": "3.6.2"
  }
 },
 "nbformat": 4,
 "nbformat_minor": 2
}
